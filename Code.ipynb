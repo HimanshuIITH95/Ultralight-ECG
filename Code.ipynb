{
 "cells": [
  {
   "cell_type": "markdown",
   "id": "56002f47",
   "metadata": {},
   "source": [
    "# MIT BIH DATABASE"
   ]
  },
  {
   "cell_type": "code",
   "execution_count": 1,
   "id": "aadeb45d",
   "metadata": {},
   "outputs": [],
   "source": [
    "#Importing Libaries"
   ]
  },
  {
   "cell_type": "code",
   "execution_count": 2,
   "id": "834145c4",
   "metadata": {},
   "outputs": [],
   "source": [
    "import pandas as pd\n",
    "from sklearn.model_selection import train_test_split\n",
    "import os\n",
    "import numpy as np\n",
    "import pandas as pd\n",
    "import seaborn as sns\n",
    "import matplotlib.pyplot as plt\n",
    "from sklearn.metrics import classification_report\n",
    "from sklearn.model_selection import train_test_split\n",
    "from sklearn.metrics import f1_score\n",
    "from sklearn.metrics import confusion_matrix\n",
    "from tensorflow.keras.utils import to_categorical\n",
    "#from keras.utils.np_utils import to_categorical\n",
    "from sklearn.utils import class_weight\n",
    "import warnings\n",
    "warnings.filterwarnings('ignore')\n",
    "from tensorflow.keras.layers import Input, Conv1D, DepthwiseConv1D, MaxPooling1D, GlobalAveragePooling1D, Dense\n",
    "from tensorflow.keras.models import Model\n",
    "import tensorflow as tf"
   ]
  },
  {
   "cell_type": "markdown",
   "id": "35ed5c3d",
   "metadata": {},
   "source": [
    "# Defining Functions"
   ]
  },
  {
   "cell_type": "code",
   "execution_count": 3,
   "id": "dd62a3aa",
   "metadata": {},
   "outputs": [],
   "source": [
    "import tensorflow as tf\n",
    "from tensorflow.keras.layers import Conv1D, DepthwiseConv1D, MaxPooling1D, AveragePooling1D, Flatten, Dense, GlobalAveragePooling1D, GlobalMaxPooling1D, concatenate\n",
    "from keras.models import Model\n",
    "from keras.layers import Input\n",
    "\n",
    "#im_shape=(X_train.shape[1],1)\n",
    "\n",
    "# Define the Depthwise Separable Convolution with Embedded Max Pooling (DSCEMP) layer\n",
    "def depthwise_separable_conv_with_embedded_max_pooling(x, filters, kernel_size, dilation_rate,pool_size):\n",
    "    # Depthwise Convolution\n",
    "    x = DepthwiseConv1D(kernel_size=kernel_size, dilation_rate=dilation_rate, padding='valid')(x)\n",
    "    \n",
    "    # Embedded Max Pooling\n",
    "    x = MaxPooling1D(pool_size=pool_size, strides=1, padding='valid')(x)\n",
    "    \n",
    "    # Pointwise Convolution\n",
    "    x = Conv1D(filters=filters, kernel_size=1, activation='relu', padding='valid')(x)\n",
    "    \n",
    "    return x\n",
    "\n",
    "# Define the Layer Decomposition with Single Channel Pooling (LDSCP) layer\n",
    "def projection_layer(inputs, filters, kernel_size):\n",
    "    x = Conv1D(filters=filters, kernel_size=kernel_size, activation='relu', padding='valid')(inputs)\n",
    "    return x\n",
    "\n",
    "# Define the Layer Decomposition with Dual Channel Pooling (LDDCP) layer\n",
    "def weighted_global_average_pooling(inputs, filters, kernel_size):\n",
    "    avg_pool = AveragePooling1D(pool_size=kernel_size, strides=1, padding='valid')(inputs)\n",
    "    #x = Conv1D(filters=filters, kernel_size=1, activation='relu', padding='valid')(avg_pool)\n",
    "    return avg_pool"
   ]
  },
  {
   "cell_type": "markdown",
   "id": "70347ec3",
   "metadata": {},
   "source": [
    "# Stage 1"
   ]
  },
  {
   "cell_type": "code",
   "execution_count": 4,
   "id": "b36dd925",
   "metadata": {},
   "outputs": [],
   "source": [
    "import tensorflow as tf\n",
    "from tensorflow.keras.layers import Input, Dense, GlobalAveragePooling1D, Lambda, GlobalMaxPooling1D\n",
    "from tensorflow.keras.models import Model\n",
    "from tensorflow.keras import backend as K\n",
    "\n",
    "def ultralight_ecg_net_1():\n",
    "    inputs = Input(shape=(399, 1))\n",
    "\n",
    "    # First Stage\n",
    "    x = depthwise_separable_conv_with_embedded_max_pooling(inputs, filters=8, kernel_size=15, dilation_rate=4, pool_size=2)\n",
    "    x = depthwise_separable_conv_with_embedded_max_pooling(x, filters=16, kernel_size=9, dilation_rate=3, pool_size=2)\n",
    "    \n",
    "    # Layer Decomposition with Single Channel Pooling (FC 1)\n",
    "    x = projection_layer(x, filters=128, kernel_size=1)\n",
    "    \n",
    "    # Apply Global Average Pooling\n",
    "    x = GlobalAveragePooling1D()(x)\n",
    "    \n",
    "    # Apply L2 Normalization\n",
    "    x = Lambda(lambda x: tf.nn.l2_normalize(x, axis=1))(x)\n",
    "    \n",
    "    # Fully-connected layer (FC 2)\n",
    "    x = Dense(2, activation='softmax')(x)   \n",
    "    \n",
    "    model = Model(inputs=inputs, outputs=x)\n",
    "    \n",
    "    return model"
   ]
  },
  {
   "cell_type": "code",
   "execution_count": 5,
   "id": "f2020d07",
   "metadata": {},
   "outputs": [],
   "source": [
    "model1 = ultralight_ecg_net_1()"
   ]
  },
  {
   "cell_type": "code",
   "execution_count": 6,
   "id": "20302b58",
   "metadata": {},
   "outputs": [
    {
     "name": "stdout",
     "output_type": "stream",
     "text": [
      "Model: \"model\"\n",
      "_________________________________________________________________\n",
      " Layer (type)                Output Shape              Param #   \n",
      "=================================================================\n",
      " input_1 (InputLayer)        [(None, 399, 1)]          0         \n",
      "                                                                 \n",
      " depthwise_conv1d (Depthwis  (None, 343, 1)            16        \n",
      " eConv1D)                                                        \n",
      "                                                                 \n",
      " max_pooling1d (MaxPooling1  (None, 342, 1)            0         \n",
      " D)                                                              \n",
      "                                                                 \n",
      " conv1d (Conv1D)             (None, 342, 8)            16        \n",
      "                                                                 \n",
      " depthwise_conv1d_1 (Depthw  (None, 318, 8)            80        \n",
      " iseConv1D)                                                      \n",
      "                                                                 \n",
      " max_pooling1d_1 (MaxPoolin  (None, 317, 8)            0         \n",
      " g1D)                                                            \n",
      "                                                                 \n",
      " conv1d_1 (Conv1D)           (None, 317, 16)           144       \n",
      "                                                                 \n",
      " conv1d_2 (Conv1D)           (None, 317, 128)          2176      \n",
      "                                                                 \n",
      " global_average_pooling1d (  (None, 128)               0         \n",
      " GlobalAveragePooling1D)                                         \n",
      "                                                                 \n",
      " lambda (Lambda)             (None, 128)               0         \n",
      "                                                                 \n",
      " dense (Dense)               (None, 2)                 258       \n",
      "                                                                 \n",
      "=================================================================\n",
      "Total params: 2690 (10.51 KB)\n",
      "Trainable params: 2690 (10.51 KB)\n",
      "Non-trainable params: 0 (0.00 Byte)\n",
      "_________________________________________________________________\n"
     ]
    }
   ],
   "source": [
    "model1.summary()"
   ]
  },
  {
   "cell_type": "code",
   "execution_count": 7,
   "id": "e7ee3da0",
   "metadata": {},
   "outputs": [],
   "source": [
    "model1.compile(loss='binary_crossentropy', optimizer='adam', metrics=['accuracy'])"
   ]
  },
  {
   "cell_type": "markdown",
   "id": "277c3887",
   "metadata": {},
   "source": [
    "# Training Data"
   ]
  },
  {
   "cell_type": "code",
   "execution_count": 8,
   "id": "e7b2bfbd",
   "metadata": {},
   "outputs": [],
   "source": [
    "train_df=pd.read_excel(r'C:\\Users\\Himanshu Singh\\Desktop\\Himanshu_TUB\\Ultralight ECG\\ULECG\\Datasets\\Exp1\\MIT\\Processed Data\\Stage 1\\MIT_BIH_Data_Stage_1_train.xlsx',header=None)"
   ]
  },
  {
   "cell_type": "code",
   "execution_count": 9,
   "id": "48c8c833",
   "metadata": {},
   "outputs": [
    {
     "name": "stdout",
     "output_type": "stream",
     "text": [
      "400\n",
      "0    37518\n",
      "1     4458\n",
      "Name: count, dtype: int64\n"
     ]
    }
   ],
   "source": [
    "count=train_df[400].value_counts()\n",
    "print(count)"
   ]
  },
  {
   "cell_type": "code",
   "execution_count": 10,
   "id": "0fe07f22",
   "metadata": {},
   "outputs": [],
   "source": [
    "c=train_df.groupby(400,group_keys=False).apply(lambda train_data : train_data.sample(1))"
   ]
  },
  {
   "cell_type": "code",
   "execution_count": 11,
   "id": "91f0d183",
   "metadata": {},
   "outputs": [],
   "source": [
    "target_train=train_df[400]\n",
    "y_train=to_categorical(target_train)"
   ]
  },
  {
   "cell_type": "code",
   "execution_count": 12,
   "id": "09d78b8f",
   "metadata": {},
   "outputs": [
    {
     "data": {
      "text/plain": [
       "(41976, 2)"
      ]
     },
     "execution_count": 12,
     "metadata": {},
     "output_type": "execute_result"
    }
   ],
   "source": [
    "target_train.shape\n",
    "y_train.shape"
   ]
  },
  {
   "cell_type": "code",
   "execution_count": 13,
   "id": "b151b847",
   "metadata": {},
   "outputs": [],
   "source": [
    "X_train=train_df.iloc[:,:399].values\n",
    "X_train = X_train.reshape(len(X_train), X_train.shape[1],1)"
   ]
  },
  {
   "cell_type": "code",
   "execution_count": 14,
   "id": "56f9dee4",
   "metadata": {},
   "outputs": [
    {
     "name": "stdout",
     "output_type": "stream",
     "text": [
      "(41976, 399, 1)\n",
      "(41976, 2)\n"
     ]
    },
    {
     "data": {
      "text/plain": [
       "numpy.ndarray"
      ]
     },
     "execution_count": 14,
     "metadata": {},
     "output_type": "execute_result"
    }
   ],
   "source": [
    "print(X_train.shape)\n",
    "print(y_train.shape)\n",
    "type(X_train)\n",
    "type(y_train)"
   ]
  },
  {
   "cell_type": "code",
   "execution_count": 15,
   "id": "a08ca90a",
   "metadata": {},
   "outputs": [
    {
     "name": "stdout",
     "output_type": "stream",
     "text": [
      "Epoch 1/40\n",
      "1312/1312 [==============================] - 29s 21ms/step - loss: 0.2224 - accuracy: 0.9245\n",
      "Epoch 2/40\n",
      "1312/1312 [==============================] - 28s 21ms/step - loss: 0.1193 - accuracy: 0.9639\n",
      "Epoch 3/40\n",
      "1312/1312 [==============================] - 27s 21ms/step - loss: 0.1041 - accuracy: 0.9675\n",
      "Epoch 4/40\n",
      "1312/1312 [==============================] - 27s 21ms/step - loss: 0.0878 - accuracy: 0.9718\n",
      "Epoch 5/40\n",
      "1312/1312 [==============================] - 27s 21ms/step - loss: 0.0774 - accuracy: 0.9746\n",
      "Epoch 6/40\n",
      "1312/1312 [==============================] - 28s 21ms/step - loss: 0.0704 - accuracy: 0.9775\n",
      "Epoch 7/40\n",
      "1312/1312 [==============================] - 28s 21ms/step - loss: 0.0671 - accuracy: 0.9785\n",
      "Epoch 8/40\n",
      "1312/1312 [==============================] - 27s 21ms/step - loss: 0.0618 - accuracy: 0.9801\n",
      "Epoch 9/40\n",
      "1312/1312 [==============================] - 27s 21ms/step - loss: 0.0619 - accuracy: 0.9800\n",
      "Epoch 10/40\n",
      "1312/1312 [==============================] - 28s 21ms/step - loss: 0.0572 - accuracy: 0.9811\n",
      "Epoch 11/40\n",
      "1312/1312 [==============================] - 28s 21ms/step - loss: 0.0539 - accuracy: 0.9824\n",
      "Epoch 12/40\n",
      "1312/1312 [==============================] - 27s 21ms/step - loss: 0.0551 - accuracy: 0.9821\n",
      "Epoch 13/40\n",
      "1312/1312 [==============================] - 28s 21ms/step - loss: 0.0498 - accuracy: 0.9839\n",
      "Epoch 14/40\n",
      "1312/1312 [==============================] - 28s 21ms/step - loss: 0.0482 - accuracy: 0.9848\n",
      "Epoch 15/40\n",
      "1312/1312 [==============================] - 28s 21ms/step - loss: 0.0466 - accuracy: 0.9849\n",
      "Epoch 16/40\n",
      "1312/1312 [==============================] - 28s 21ms/step - loss: 0.0445 - accuracy: 0.9861\n",
      "Epoch 17/40\n",
      "1312/1312 [==============================] - 27s 21ms/step - loss: 0.0436 - accuracy: 0.9858\n",
      "Epoch 18/40\n",
      "1312/1312 [==============================] - 28s 21ms/step - loss: 0.0424 - accuracy: 0.9864\n",
      "Epoch 19/40\n",
      "1312/1312 [==============================] - 26s 20ms/step - loss: 0.0415 - accuracy: 0.9864\n",
      "Epoch 20/40\n",
      "1312/1312 [==============================] - 26s 20ms/step - loss: 0.0402 - accuracy: 0.9871\n",
      "Epoch 21/40\n",
      "1312/1312 [==============================] - 26s 20ms/step - loss: 0.0397 - accuracy: 0.9874\n",
      "Epoch 22/40\n",
      "1312/1312 [==============================] - 26s 20ms/step - loss: 0.0386 - accuracy: 0.9873\n",
      "Epoch 23/40\n",
      "1312/1312 [==============================] - 26s 20ms/step - loss: 0.0377 - accuracy: 0.9876\n",
      "Epoch 24/40\n",
      "1312/1312 [==============================] - 26s 20ms/step - loss: 0.0378 - accuracy: 0.9874\n",
      "Epoch 25/40\n",
      "1312/1312 [==============================] - 26s 20ms/step - loss: 0.0360 - accuracy: 0.9881\n",
      "Epoch 26/40\n",
      "1312/1312 [==============================] - 26s 20ms/step - loss: 0.0362 - accuracy: 0.9884\n",
      "Epoch 27/40\n",
      "1312/1312 [==============================] - 26s 20ms/step - loss: 0.0356 - accuracy: 0.9882\n",
      "Epoch 28/40\n",
      "1312/1312 [==============================] - 26s 20ms/step - loss: 0.0348 - accuracy: 0.9890\n",
      "Epoch 29/40\n",
      "1312/1312 [==============================] - 26s 20ms/step - loss: 0.0352 - accuracy: 0.9891\n",
      "Epoch 30/40\n",
      "1312/1312 [==============================] - 26s 20ms/step - loss: 0.0338 - accuracy: 0.9895\n",
      "Epoch 31/40\n",
      "1312/1312 [==============================] - 26s 20ms/step - loss: 0.0334 - accuracy: 0.9894\n",
      "Epoch 32/40\n",
      "1312/1312 [==============================] - 26s 20ms/step - loss: 0.0437 - accuracy: 0.9852\n",
      "Epoch 33/40\n",
      "1312/1312 [==============================] - 26s 20ms/step - loss: 0.0325 - accuracy: 0.9893\n",
      "Epoch 34/40\n",
      "1312/1312 [==============================] - 27s 20ms/step - loss: 0.0313 - accuracy: 0.9903\n",
      "Epoch 35/40\n",
      "1312/1312 [==============================] - 27s 20ms/step - loss: 0.0319 - accuracy: 0.9899\n",
      "Epoch 36/40\n",
      "1312/1312 [==============================] - 26s 20ms/step - loss: 0.0316 - accuracy: 0.9902\n",
      "Epoch 37/40\n",
      "1312/1312 [==============================] - 27s 21ms/step - loss: 0.0379 - accuracy: 0.9878\n",
      "Epoch 38/40\n",
      "1312/1312 [==============================] - 27s 20ms/step - loss: 0.0309 - accuracy: 0.9904\n",
      "Epoch 39/40\n",
      "1312/1312 [==============================] - 26s 20ms/step - loss: 0.0302 - accuracy: 0.9904\n",
      "Epoch 40/40\n",
      "1312/1312 [==============================] - 27s 20ms/step - loss: 0.0340 - accuracy: 0.9888\n"
     ]
    }
   ],
   "source": [
    "# Train the model on the training set\n",
    "from tensorflow.keras.callbacks import EarlyStopping\n",
    "early_stop = EarlyStopping(patience=5, monitor='loss', restore_best_weights=True)\n",
    "history=model1.fit(X_train, y_train, epochs=40, batch_size=32, callbacks=[early_stop])"
   ]
  },
  {
   "cell_type": "markdown",
   "id": "d154bfd6",
   "metadata": {},
   "source": [
    "# Testing"
   ]
  },
  {
   "cell_type": "code",
   "execution_count": 16,
   "id": "16e76add",
   "metadata": {},
   "outputs": [],
   "source": [
    "test_df=pd.read_excel(r'C:\\Users\\Himanshu Singh\\Desktop\\Himanshu_TUB\\Ultralight ECG\\ULECG\\Datasets\\Exp1\\MIT\\Processed Data\\Stage 1\\MIT_BIH_Data_Stage_1_test.xlsx',header=None)"
   ]
  },
  {
   "cell_type": "code",
   "execution_count": 17,
   "id": "f215d578",
   "metadata": {},
   "outputs": [
    {
     "data": {
      "text/plain": [
       "(41974, 401)"
      ]
     },
     "execution_count": 17,
     "metadata": {},
     "output_type": "execute_result"
    }
   ],
   "source": [
    "test_df.shape"
   ]
  },
  {
   "cell_type": "code",
   "execution_count": 18,
   "id": "a0f6df2e",
   "metadata": {},
   "outputs": [
    {
     "name": "stdout",
     "output_type": "stream",
     "text": [
      "400\n",
      "0    37483\n",
      "1     4491\n",
      "Name: count, dtype: int64\n"
     ]
    }
   ],
   "source": [
    "count=test_df[400].value_counts()\n",
    "print(count)"
   ]
  },
  {
   "cell_type": "code",
   "execution_count": 19,
   "id": "29eaabac",
   "metadata": {},
   "outputs": [],
   "source": [
    "target_test=test_df[400]\n",
    "y_test=to_categorical(target_test)"
   ]
  },
  {
   "cell_type": "code",
   "execution_count": 20,
   "id": "114a32d0",
   "metadata": {},
   "outputs": [
    {
     "data": {
      "text/plain": [
       "(41974,)"
      ]
     },
     "execution_count": 20,
     "metadata": {},
     "output_type": "execute_result"
    }
   ],
   "source": [
    "target_test.shape"
   ]
  },
  {
   "cell_type": "code",
   "execution_count": 21,
   "id": "2de69c80",
   "metadata": {},
   "outputs": [],
   "source": [
    "X_test=test_df.iloc[:,:399].values\n",
    "X_test = X_test.reshape(len(X_test), X_test.shape[1],1)"
   ]
  },
  {
   "cell_type": "code",
   "execution_count": 22,
   "id": "f32ba3a4",
   "metadata": {},
   "outputs": [
    {
     "name": "stdout",
     "output_type": "stream",
     "text": [
      "(41974, 399, 1)\n",
      "(41974, 2)\n"
     ]
    },
    {
     "data": {
      "text/plain": [
       "numpy.ndarray"
      ]
     },
     "execution_count": 22,
     "metadata": {},
     "output_type": "execute_result"
    }
   ],
   "source": [
    "print(X_test.shape )\n",
    "print(y_test.shape)\n",
    "type(X_test)\n",
    "type(y_test)"
   ]
  },
  {
   "cell_type": "code",
   "execution_count": 23,
   "id": "e095bb80",
   "metadata": {},
   "outputs": [
    {
     "name": "stdout",
     "output_type": "stream",
     "text": [
      "1312/1312 [==============================] - 11s 8ms/step - loss: 0.0355 - accuracy: 0.9884\n",
      "Test Loss: 0.0355\n",
      "Test Accuracy: 0.9884\n"
     ]
    }
   ],
   "source": [
    "# Evaluate the model on the test dataset\n",
    "loss, accuracy = model1.evaluate(X_test, y_test)\n",
    "print(f\"Test Loss: {loss:.4f}\")\n",
    "print(f\"Test Accuracy: {accuracy:.4f}\")"
   ]
  },
  {
   "cell_type": "code",
   "execution_count": 24,
   "id": "e97d07c8",
   "metadata": {},
   "outputs": [
    {
     "name": "stdout",
     "output_type": "stream",
     "text": [
      "1312/1312 [==============================] - 10s 8ms/step\n"
     ]
    }
   ],
   "source": [
    "# Prediction on test data\n",
    "y_pred = model1.predict(X_test)"
   ]
  },
  {
   "cell_type": "code",
   "execution_count": 25,
   "id": "a1e432b5",
   "metadata": {},
   "outputs": [],
   "source": [
    "# Plot confusion matrix\n",
    "import numpy as np\n",
    "from sklearn.metrics import confusion_matrix\n",
    "import matplotlib.pyplot as plt\n",
    "import seaborn as sns\n",
    "class_names = ['N', 'A']"
   ]
  },
  {
   "cell_type": "code",
   "execution_count": 26,
   "id": "26f03d33",
   "metadata": {},
   "outputs": [],
   "source": [
    "# Convert predicted probabilities to class labels\n",
    "y_pred_classes = np.argmax(y_pred, axis=1)\n",
    "y_true_classes = np.argmax(y_test, axis=1)"
   ]
  },
  {
   "cell_type": "code",
   "execution_count": 27,
   "id": "079ef287",
   "metadata": {},
   "outputs": [],
   "source": [
    "# Create confusion matrix\n",
    "conf_matrix = confusion_matrix(y_pred_classes, y_true_classes)"
   ]
  },
  {
   "cell_type": "code",
   "execution_count": 28,
   "id": "53d406db",
   "metadata": {},
   "outputs": [
    {
     "data": {
      "image/png": "[encoded data removed]",
      "text/plain": [
       "<Figure size 800x600 with 1 Axes>"
      ]
     },
     "metadata": {},
     "output_type": "display_data"
    }
   ],
   "source": [
    "# Plot the confusion matrix\n",
    "plt.figure(figsize=(8, 6))\n",
    "sns.heatmap(conf_matrix, annot=True, fmt=\"d\", cmap=\"Blues\", cbar=False, xticklabels=class_names, yticklabels=class_names)\n",
    "plt.xlabel(\"Predicted Labels\")\n",
    "plt.ylabel(\"True Labels\")\n",
    "plt.title(\"Confusion Matrix\")\n",
    "plt.show()"
   ]
  },
  {
   "cell_type": "markdown",
   "id": "625b13aa",
   "metadata": {},
   "source": [
    "# Stage 2"
   ]
  },
  {
   "cell_type": "code",
   "execution_count": 29,
   "id": "07ec694b",
   "metadata": {},
   "outputs": [],
   "source": [
    "import tensorflow as tf\n",
    "from tensorflow.keras.layers import Conv1D, DepthwiseConv1D, MaxPooling1D, AveragePooling1D, Flatten, Dense, GlobalAveragePooling1D, GlobalMaxPooling1D, concatenate\n",
    "from tensorflow.keras.layers import GlobalMaxPooling1D, Conv1D\n",
    "from keras.models import Model\n",
    "from keras.layers import Input\n",
    "\n",
    "im_shape=(X_train.shape[1],1)\n",
    "\n",
    "# Define the Depthwise Separable Convolution with Embedded Max Pooling (DSCEMP) layer\n",
    "def depthwise_separable_conv_with_embedded_max_pooling(x, filters, kernel_size, dilation_rate,pool_size):\n",
    "    # Depthwise Convolution\n",
    "    x = DepthwiseConv1D(kernel_size=kernel_size, dilation_rate=dilation_rate, padding='valid')(x)\n",
    "    \n",
    "    # Embedded Max Pooling\n",
    "    x = MaxPooling1D(pool_size=pool_size, strides=1, padding='valid')(x)\n",
    "    \n",
    "    # Pointwise Convolution\n",
    "    x = Conv1D(filters=filters, kernel_size=1, activation='relu', padding='valid')(x)\n",
    "    \n",
    "    return x\n",
    "\n",
    "# Define the Layer Decomposition with Single Channel Pooling (LDSCP) layer\n",
    "def projection_layer(inputs, filters, kernel_size):\n",
    "    x = Conv1D(filters=filters, kernel_size=kernel_size, activation='relu', padding='valid')(inputs)\n",
    "    return x\n",
    "\n",
    "# Define the weighted average global pooling\n",
    "def weighted_global_average_pooling(inputs, filters, kernel_size):\n",
    "    x = Conv1D(filters=filters, kernel_size=1, activation='linear', padding='valid')(inputs)\n",
    "    x = GlobalAveragePooling1D()(x)\n",
    "    return x"
   ]
  },
  {
   "cell_type": "code",
   "execution_count": 30,
   "id": "6a177178",
   "metadata": {},
   "outputs": [],
   "source": [
    "from tensorflow.keras.layers import Input, Conv1D, GlobalMaxPooling1D, Dense, Flatten, Concatenate\n",
    "from tensorflow.keras.models import Model\n",
    "\n",
    "def ultralight_ecg_net_2():\n",
    "    inputs = Input(shape=(399, 1))\n",
    "    \n",
    "    # Second Stage\n",
    "    x = depthwise_separable_conv_with_embedded_max_pooling(inputs, filters=16, kernel_size=15, dilation_rate=4, pool_size=4)\n",
    "    x = depthwise_separable_conv_with_embedded_max_pooling(x, filters=32, kernel_size=9, dilation_rate=3, pool_size=2)\n",
    "    \n",
    "    # Layer Decomposition with Dual Channel Pooling (FC 1)\n",
    "    x = projection_layer(x, filters=64, kernel_size=1)\n",
    "    x1 = weighted_global_average_pooling(x, filters=64, kernel_size=31)\n",
    "    x2 = GlobalMaxPooling1D()(x)\n",
    "    \n",
    "    concatenated_outputs = Concatenate()([x1, x2])\n",
    "    \n",
    "    # Fully-connected layer (FC 2)\n",
    "    outputs = Dense(5, activation='softmax')(concatenated_outputs)\n",
    "    \n",
    "    model = Model(inputs=inputs, outputs=outputs)\n",
    "    return model"
   ]
  },
  {
   "cell_type": "code",
   "execution_count": 31,
   "id": "34a6ce65",
   "metadata": {},
   "outputs": [],
   "source": [
    "model = ultralight_ecg_net_2()"
   ]
  },
  {
   "cell_type": "code",
   "execution_count": 32,
   "id": "d962f590",
   "metadata": {
    "scrolled": true
   },
   "outputs": [
    {
     "name": "stdout",
     "output_type": "stream",
     "text": [
      "Model: \"model_1\"\n",
      "__________________________________________________________________________________________________\n",
      " Layer (type)                Output Shape                 Param #   Connected to                  \n",
      "==================================================================================================\n",
      " input_2 (InputLayer)        [(None, 399, 1)]             0         []                            \n",
      "                                                                                                  \n",
      " depthwise_conv1d_2 (Depthw  (None, 343, 1)               16        ['input_2[0][0]']             \n",
      " iseConv1D)                                                                                       \n",
      "                                                                                                  \n",
      " max_pooling1d_2 (MaxPoolin  (None, 340, 1)               0         ['depthwise_conv1d_2[0][0]']  \n",
      " g1D)                                                                                             \n",
      "                                                                                                  \n",
      " conv1d_3 (Conv1D)           (None, 340, 16)              32        ['max_pooling1d_2[0][0]']     \n",
      "                                                                                                  \n",
      " depthwise_conv1d_3 (Depthw  (None, 316, 16)              160       ['conv1d_3[0][0]']            \n",
      " iseConv1D)                                                                                       \n",
      "                                                                                                  \n",
      " max_pooling1d_3 (MaxPoolin  (None, 315, 16)              0         ['depthwise_conv1d_3[0][0]']  \n",
      " g1D)                                                                                             \n",
      "                                                                                                  \n",
      " conv1d_4 (Conv1D)           (None, 315, 32)              544       ['max_pooling1d_3[0][0]']     \n",
      "                                                                                                  \n",
      " conv1d_5 (Conv1D)           (None, 315, 64)              2112      ['conv1d_4[0][0]']            \n",
      "                                                                                                  \n",
      " conv1d_6 (Conv1D)           (None, 315, 64)              4160      ['conv1d_5[0][0]']            \n",
      "                                                                                                  \n",
      " global_average_pooling1d_1  (None, 64)                   0         ['conv1d_6[0][0]']            \n",
      "  (GlobalAveragePooling1D)                                                                        \n",
      "                                                                                                  \n",
      " global_max_pooling1d (Glob  (None, 64)                   0         ['conv1d_5[0][0]']            \n",
      " alMaxPooling1D)                                                                                  \n",
      "                                                                                                  \n",
      " concatenate (Concatenate)   (None, 128)                  0         ['global_average_pooling1d_1[0\n",
      "                                                                    ][0]',                        \n",
      "                                                                     'global_max_pooling1d[0][0]']\n",
      "                                                                                                  \n",
      " dense_1 (Dense)             (None, 5)                    645       ['concatenate[0][0]']         \n",
      "                                                                                                  \n",
      "==================================================================================================\n",
      "Total params: 7669 (29.96 KB)\n",
      "Trainable params: 7669 (29.96 KB)\n",
      "Non-trainable params: 0 (0.00 Byte)\n",
      "__________________________________________________________________________________________________\n"
     ]
    }
   ],
   "source": [
    "model.summary()"
   ]
  },
  {
   "cell_type": "code",
   "execution_count": 33,
   "id": "71038b8a",
   "metadata": {},
   "outputs": [],
   "source": [
    "from tensorflow.keras.optimizers import Adam\n",
    "model.compile(loss='categorical_crossentropy', optimizer='adam', metrics=['accuracy'])"
   ]
  },
  {
   "cell_type": "markdown",
   "id": "8af009e3",
   "metadata": {},
   "source": [
    "# Training"
   ]
  },
  {
   "cell_type": "code",
   "execution_count": 34,
   "id": "ec294da2",
   "metadata": {},
   "outputs": [],
   "source": [
    "train_df=pd.read_excel(r'C:\\Users\\Himanshu Singh\\Desktop\\Himanshu_TUB\\Ultralight ECG\\ULECG\\Datasets\\Exp1\\MIT\\Processed Data\\Stage 2\\MIT_BIH_Data_Stage_2_train.xlsx',header=None)"
   ]
  },
  {
   "cell_type": "code",
   "execution_count": 35,
   "id": "0483864b",
   "metadata": {},
   "outputs": [
    {
     "name": "stdout",
     "output_type": "stream",
     "text": [
      "400\n",
      "0    37518\n",
      "2     3563\n",
      "3      876\n",
      "4       17\n",
      "1        2\n",
      "Name: count, dtype: int64\n"
     ]
    }
   ],
   "source": [
    "count=train_df[400].value_counts()\n",
    "print(count)"
   ]
  },
  {
   "cell_type": "code",
   "execution_count": 36,
   "id": "3397052d",
   "metadata": {},
   "outputs": [],
   "source": [
    "c=train_df.groupby(400,group_keys=False).apply(lambda train_data : train_data.sample(1))"
   ]
  },
  {
   "cell_type": "code",
   "execution_count": 37,
   "id": "cf559bab",
   "metadata": {},
   "outputs": [],
   "source": [
    "target_train=train_df[400]\n",
    "y_train=to_categorical(target_train)"
   ]
  },
  {
   "cell_type": "code",
   "execution_count": 38,
   "id": "b3e16ed3",
   "metadata": {},
   "outputs": [
    {
     "data": {
      "text/plain": [
       "(41976, 5)"
      ]
     },
     "execution_count": 38,
     "metadata": {},
     "output_type": "execute_result"
    }
   ],
   "source": [
    "target_train.shape\n",
    "y_train.shape"
   ]
  },
  {
   "cell_type": "code",
   "execution_count": 39,
   "id": "d9b30d39",
   "metadata": {},
   "outputs": [],
   "source": [
    "X_train=train_df.iloc[:,:399].values\n",
    "X_train = X_train.reshape(len(X_train), X_train.shape[1],1)"
   ]
  },
  {
   "cell_type": "code",
   "execution_count": 40,
   "id": "80c64113",
   "metadata": {},
   "outputs": [
    {
     "name": "stdout",
     "output_type": "stream",
     "text": [
      "(41976, 399, 1)\n",
      "(41976, 5)\n"
     ]
    },
    {
     "data": {
      "text/plain": [
       "numpy.ndarray"
      ]
     },
     "execution_count": 40,
     "metadata": {},
     "output_type": "execute_result"
    }
   ],
   "source": [
    "print(X_train.shape)\n",
    "print(y_train.shape)\n",
    "type(X_train)\n",
    "type(y_train)"
   ]
  },
  {
   "cell_type": "code",
   "execution_count": 41,
   "id": "7ebf4d6d",
   "metadata": {},
   "outputs": [
    {
     "name": "stdout",
     "output_type": "stream",
     "text": [
      "Epoch 1/40\n",
      "1312/1312 [==============================] - 38s 28ms/step - loss: 0.2895 - accuracy: 0.9209\n",
      "Epoch 2/40\n",
      "1312/1312 [==============================] - 37s 28ms/step - loss: 0.1832 - accuracy: 0.9451\n",
      "Epoch 3/40\n",
      "1312/1312 [==============================] - 38s 29ms/step - loss: 0.1462 - accuracy: 0.9556\n",
      "Epoch 4/40\n",
      "1312/1312 [==============================] - 37s 28ms/step - loss: 0.1236 - accuracy: 0.9626\n",
      "Epoch 5/40\n",
      "1312/1312 [==============================] - 41s 32ms/step - loss: 0.1076 - accuracy: 0.9675\n",
      "Epoch 6/40\n",
      "1312/1312 [==============================] - 42s 32ms/step - loss: 0.0970 - accuracy: 0.9709\n",
      "Epoch 7/40\n",
      "1312/1312 [==============================] - 42s 32ms/step - loss: 0.0922 - accuracy: 0.9731\n",
      "Epoch 8/40\n",
      "1312/1312 [==============================] - 39s 29ms/step - loss: 0.0866 - accuracy: 0.9747\n",
      "Epoch 9/40\n",
      "1312/1312 [==============================] - 42s 32ms/step - loss: 0.0824 - accuracy: 0.9763\n",
      "Epoch 10/40\n",
      "1312/1312 [==============================] - 41s 31ms/step - loss: 0.0787 - accuracy: 0.9771\n",
      "Epoch 11/40\n",
      "1312/1312 [==============================] - 41s 31ms/step - loss: 0.0727 - accuracy: 0.9788\n",
      "Epoch 12/40\n",
      "1312/1312 [==============================] - 41s 32ms/step - loss: 0.0702 - accuracy: 0.9797\n",
      "Epoch 13/40\n",
      "1312/1312 [==============================] - 64s 49ms/step - loss: 0.0669 - accuracy: 0.9802\n",
      "Epoch 14/40\n",
      "1312/1312 [==============================] - 55s 42ms/step - loss: 0.0644 - accuracy: 0.9809\n",
      "Epoch 15/40\n",
      "1312/1312 [==============================] - 42s 32ms/step - loss: 0.0663 - accuracy: 0.9803\n",
      "Epoch 16/40\n",
      "1312/1312 [==============================] - 42s 32ms/step - loss: 0.0609 - accuracy: 0.9823\n",
      "Epoch 17/40\n",
      "1312/1312 [==============================] - 42s 32ms/step - loss: 0.0595 - accuracy: 0.9824\n",
      "Epoch 18/40\n",
      "1312/1312 [==============================] - 44s 34ms/step - loss: 0.0583 - accuracy: 0.9831\n",
      "Epoch 19/40\n",
      "1312/1312 [==============================] - 45s 34ms/step - loss: 0.0569 - accuracy: 0.9831\n",
      "Epoch 20/40\n",
      "1312/1312 [==============================] - 51s 39ms/step - loss: 0.0540 - accuracy: 0.9843\n",
      "Epoch 21/40\n",
      "1312/1312 [==============================] - 62s 47ms/step - loss: 0.0525 - accuracy: 0.9849\n",
      "Epoch 22/40\n",
      "1312/1312 [==============================] - 55s 42ms/step - loss: 0.0523 - accuracy: 0.9848\n",
      "Epoch 23/40\n",
      "1312/1312 [==============================] - 45s 34ms/step - loss: 0.0491 - accuracy: 0.9859\n",
      "Epoch 24/40\n",
      "1312/1312 [==============================] - 41s 31ms/step - loss: 0.0477 - accuracy: 0.9862\n",
      "Epoch 25/40\n",
      "1312/1312 [==============================] - 41s 32ms/step - loss: 0.0478 - accuracy: 0.9863\n",
      "Epoch 26/40\n",
      "1312/1312 [==============================] - 41s 31ms/step - loss: 0.0458 - accuracy: 0.9873\n",
      "Epoch 27/40\n",
      "1312/1312 [==============================] - 41s 31ms/step - loss: 0.0465 - accuracy: 0.9867\n",
      "Epoch 28/40\n",
      "1312/1312 [==============================] - 41s 31ms/step - loss: 0.0443 - accuracy: 0.9872\n",
      "Epoch 29/40\n",
      "1312/1312 [==============================] - 41s 31ms/step - loss: 0.0440 - accuracy: 0.9876\n",
      "Epoch 30/40\n",
      "1312/1312 [==============================] - 42s 32ms/step - loss: 0.0415 - accuracy: 0.9880\n",
      "Epoch 31/40\n",
      "1312/1312 [==============================] - 42s 32ms/step - loss: 0.0431 - accuracy: 0.9875\n",
      "Epoch 32/40\n",
      "1312/1312 [==============================] - 45s 34ms/step - loss: 0.0409 - accuracy: 0.9882\n",
      "Epoch 33/40\n",
      "1312/1312 [==============================] - 49s 37ms/step - loss: 0.0402 - accuracy: 0.9885\n",
      "Epoch 34/40\n",
      "1312/1312 [==============================] - 44s 34ms/step - loss: 0.0396 - accuracy: 0.9888\n",
      "Epoch 35/40\n",
      "1312/1312 [==============================] - 43s 33ms/step - loss: 0.0401 - accuracy: 0.9883\n",
      "Epoch 36/40\n",
      "1312/1312 [==============================] - 39s 29ms/step - loss: 0.0376 - accuracy: 0.9891\n",
      "Epoch 37/40\n",
      "1312/1312 [==============================] - 38s 29ms/step - loss: 0.0383 - accuracy: 0.9892\n",
      "Epoch 38/40\n",
      "1312/1312 [==============================] - 38s 29ms/step - loss: 0.0381 - accuracy: 0.9888\n",
      "Epoch 39/40\n",
      "1312/1312 [==============================] - 38s 29ms/step - loss: 0.0367 - accuracy: 0.9891\n",
      "Epoch 40/40\n",
      "1312/1312 [==============================] - 38s 29ms/step - loss: 0.0361 - accuracy: 0.9894\n"
     ]
    }
   ],
   "source": [
    "# Train the model on the training set\n",
    "from tensorflow.keras.callbacks import EarlyStopping\n",
    "early_stop = EarlyStopping(patience=5, monitor='loss', restore_best_weights=True)\n",
    "history=model.fit(X_train, y_train, epochs=40, batch_size=32, callbacks=[early_stop])"
   ]
  },
  {
   "cell_type": "markdown",
   "id": "a829f3e0",
   "metadata": {},
   "source": [
    "# Testing"
   ]
  },
  {
   "cell_type": "code",
   "execution_count": 58,
   "id": "ad9c6d7d",
   "metadata": {},
   "outputs": [],
   "source": [
    "test_df=pd.read_excel(r'C:\\Users\\Himanshu Singh\\Desktop\\Himanshu_TUB\\Ultralight ECG\\ULECG\\Datasets\\Exp1\\MIT\\Processed Data\\Stage 2\\MIT_BIH_Data_Stage_2_test.xlsx',header=None)"
   ]
  },
  {
   "cell_type": "code",
   "execution_count": 43,
   "id": "82f7f2bc",
   "metadata": {},
   "outputs": [
    {
     "data": {
      "text/plain": [
       "(41974, 402)"
      ]
     },
     "execution_count": 43,
     "metadata": {},
     "output_type": "execute_result"
    }
   ],
   "source": [
    "test_df.shape"
   ]
  },
  {
   "cell_type": "code",
   "execution_count": 44,
   "id": "de74ab6d",
   "metadata": {},
   "outputs": [
    {
     "name": "stdout",
     "output_type": "stream",
     "text": [
      "400\n",
      "0    37483\n",
      "2     3566\n",
      "3      908\n",
      "4       16\n",
      "1        1\n",
      "Name: count, dtype: int64\n"
     ]
    }
   ],
   "source": [
    "count=test_df[400].value_counts()\n",
    "print(count)"
   ]
  },
  {
   "cell_type": "code",
   "execution_count": 45,
   "id": "3eb3653a",
   "metadata": {},
   "outputs": [],
   "source": [
    "target_test=test_df[400]\n",
    "y_test=to_categorical(target_test)"
   ]
  },
  {
   "cell_type": "code",
   "execution_count": 46,
   "id": "3efe9127",
   "metadata": {},
   "outputs": [
    {
     "data": {
      "text/plain": [
       "(41974,)"
      ]
     },
     "execution_count": 46,
     "metadata": {},
     "output_type": "execute_result"
    }
   ],
   "source": [
    "target_test.shape"
   ]
  },
  {
   "cell_type": "code",
   "execution_count": 47,
   "id": "a57502ec",
   "metadata": {},
   "outputs": [],
   "source": [
    "X_test=test_df.iloc[:,:399].values\n",
    "X_test = X_test.reshape(len(X_test), X_test.shape[1],1)"
   ]
  },
  {
   "cell_type": "code",
   "execution_count": 48,
   "id": "63da4c28",
   "metadata": {},
   "outputs": [
    {
     "name": "stdout",
     "output_type": "stream",
     "text": [
      "(41974, 399, 1)\n",
      "(41974, 5)\n"
     ]
    },
    {
     "data": {
      "text/plain": [
       "numpy.ndarray"
      ]
     },
     "execution_count": 48,
     "metadata": {},
     "output_type": "execute_result"
    }
   ],
   "source": [
    "print(X_test.shape )\n",
    "print(y_test.shape)\n",
    "type(X_test)\n",
    "type(y_test)"
   ]
  },
  {
   "cell_type": "code",
   "execution_count": 49,
   "id": "621c5e4d",
   "metadata": {},
   "outputs": [
    {
     "name": "stdout",
     "output_type": "stream",
     "text": [
      "1312/1312 [==============================] - 13s 10ms/step - loss: 0.0425 - accuracy: 0.9886\n",
      "Test Loss: 0.0425\n",
      "Test Accuracy: 0.9886\n"
     ]
    }
   ],
   "source": [
    "# Evaluate the model on the test dataset\n",
    "loss, accuracy = model.evaluate(X_test, y_test)\n",
    "print(f\"Test Loss: {loss:.4f}\")\n",
    "print(f\"Test Accuracy: {accuracy:.4f}\")"
   ]
  },
  {
   "cell_type": "code",
   "execution_count": 50,
   "id": "2a7c040b",
   "metadata": {},
   "outputs": [
    {
     "name": "stdout",
     "output_type": "stream",
     "text": [
      "1312/1312 [==============================] - 13s 9ms/step\n"
     ]
    }
   ],
   "source": [
    "# Prediction on test data\n",
    "y_pred = model.predict(X_test)"
   ]
  },
  {
   "cell_type": "code",
   "execution_count": 51,
   "id": "fec69978",
   "metadata": {},
   "outputs": [],
   "source": [
    "# Plot confusion matrix\n",
    "import numpy as np\n",
    "from sklearn.metrics import confusion_matrix\n",
    "import matplotlib.pyplot as plt\n",
    "import seaborn as sns\n",
    "class_names = ['N', 'S', 'V', 'F', 'Q']"
   ]
  },
  {
   "cell_type": "code",
   "execution_count": 52,
   "id": "acf8d6cc",
   "metadata": {},
   "outputs": [],
   "source": [
    "# Convert predicted probabilities to class labels\n",
    "y_pred_classes = np.argmax(y_pred, axis=1)\n",
    "y_true_classes = np.argmax(y_test, axis=1)"
   ]
  },
  {
   "cell_type": "code",
   "execution_count": 53,
   "id": "6fb984e6",
   "metadata": {},
   "outputs": [],
   "source": [
    "# Create confusion matrix\n",
    "conf_matrix = confusion_matrix(y_true_classes, y_pred_classes)"
   ]
  },
  {
   "cell_type": "code",
   "execution_count": 54,
   "id": "16529067",
   "metadata": {},
   "outputs": [
    {
     "data": {
      "image/png": "[encoded data removed]",
      "text/plain": [
       "<Figure size 800x600 with 1 Axes>"
      ]
     },
     "metadata": {},
     "output_type": "display_data"
    }
   ],
   "source": [
    "# Plot the confusion matrix\n",
    "plt.figure(figsize=(8, 6))\n",
    "sns.heatmap(conf_matrix, annot=True, fmt=\"d\", cmap=\"Blues\", cbar=False, xticklabels=class_names, yticklabels=class_names)\n",
    "plt.xlabel(\"Predicted Labels\")\n",
    "plt.ylabel(\"True Labels\")\n",
    "plt.title(\"Confusion Matrix\")\n",
    "plt.show()"
   ]
  },
  {
   "cell_type": "code",
   "execution_count": 55,
   "id": "c3086152",
   "metadata": {},
   "outputs": [
    {
     "name": "stdout",
     "output_type": "stream",
     "text": [
      "Classification Report:\n",
      "               precision    recall  f1-score   support\n",
      "\n",
      "           N       0.99      1.00      0.99     37483\n",
      "           S       0.00      0.00      0.00         1\n",
      "           V       0.95      0.96      0.95      3566\n",
      "           F       0.98      0.77      0.86       908\n",
      "           Q       0.75      0.38      0.50        16\n",
      "\n",
      "    accuracy                           0.99     41974\n",
      "   macro avg       0.73      0.62      0.66     41974\n",
      "weighted avg       0.99      0.99      0.99     41974\n",
      "\n"
     ]
    }
   ],
   "source": [
    "from sklearn.metrics import classification_report\n",
    "# Print classification report\n",
    "class_report = classification_report(y_true_classes, y_pred_classes, target_names=class_names)\n",
    "print(\"Classification Report:\\n\", class_report)"
   ]
  },
  {
   "cell_type": "code",
   "execution_count": 56,
   "id": "6ab8c59b",
   "metadata": {},
   "outputs": [
    {
     "data": {
      "image/png": "[encoded data removed]",
      "text/plain": [
       "<Figure size 1200x400 with 2 Axes>"
      ]
     },
     "metadata": {},
     "output_type": "display_data"
    }
   ],
   "source": [
    "import matplotlib.pyplot as plt\n",
    "\n",
    "# Assuming you have the 'history' object from your model training\n",
    "# history = model.fit(...)\n",
    "\n",
    "# Plotting the loss curves\n",
    "plt.figure(figsize=(12, 4))\n",
    "\n",
    "# Loss\n",
    "plt.subplot(1, 2, 1)\n",
    "plt.plot(history.history['loss'], label='Loss')\n",
    "#plt.plot(history.history['accuracy'], label='Accuracy')\n",
    "plt.title('Model Loss')\n",
    "plt.xlabel('Epoch')\n",
    "plt.ylabel('Loss')\n",
    "plt.legend()\n",
    "\n",
    "# Accuracy\n",
    "plt.subplot(1, 2, 2)\n",
    "plt.plot(history.history['accuracy'], label='Train')\n",
    "#plt.plot(history.history['val_accuracy'], label='Validation')\n",
    "plt.title('Model Accuracy')\n",
    "plt.xlabel('Epoch')\n",
    "plt.ylabel('Accuracy')\n",
    "plt.legend()\n",
    "\n",
    "plt.tight_layout()\n",
    "plt.show()\n"
   ]
  },
  {
   "cell_type": "code",
   "execution_count": null,
   "id": "aeac0392",
   "metadata": {},
   "outputs": [],
   "source": []
  },
  {
   "cell_type": "code",
   "execution_count": null,
   "id": "618ece37",
   "metadata": {},
   "outputs": [],
   "source": []
  },
  {
   "cell_type": "code",
   "execution_count": null,
   "id": "49aa397b",
   "metadata": {},
   "outputs": [],
   "source": []
  },
  {
   "cell_type": "markdown",
   "id": "8fd2de3e",
   "metadata": {},
   "source": [
    "# K Fold Cross Validation"
   ]
  },
  {
   "cell_type": "code",
   "execution_count": 57,
   "id": "399ceda9",
   "metadata": {},
   "outputs": [
    {
     "ename": "ModuleNotFoundError",
     "evalue": "No module named 'keras.utils.np_utils'",
     "output_type": "error",
     "traceback": [
      "\u001b[1;31m---------------------------------------------------------------------------\u001b[0m",
      "\u001b[1;31mModuleNotFoundError\u001b[0m                       Traceback (most recent call last)",
      "Cell \u001b[1;32mIn[57], line 7\u001b[0m\n\u001b[0;32m      5\u001b[0m \u001b[38;5;28;01mfrom\u001b[39;00m \u001b[38;5;21;01msklearn\u001b[39;00m\u001b[38;5;21;01m.\u001b[39;00m\u001b[38;5;21;01mmetrics\u001b[39;00m \u001b[38;5;28;01mimport\u001b[39;00m confusion_matrix\n\u001b[0;32m      6\u001b[0m \u001b[38;5;28;01mfrom\u001b[39;00m \u001b[38;5;21;01msklearn\u001b[39;00m\u001b[38;5;21;01m.\u001b[39;00m\u001b[38;5;21;01mmodel_selection\u001b[39;00m \u001b[38;5;28;01mimport\u001b[39;00m StratifiedKFold\n\u001b[1;32m----> 7\u001b[0m \u001b[38;5;28;01mfrom\u001b[39;00m \u001b[38;5;21;01mkeras\u001b[39;00m\u001b[38;5;21;01m.\u001b[39;00m\u001b[38;5;21;01mutils\u001b[39;00m\u001b[38;5;21;01m.\u001b[39;00m\u001b[38;5;21;01mnp_utils\u001b[39;00m \u001b[38;5;28;01mimport\u001b[39;00m to_categorical\n\u001b[0;32m      8\u001b[0m \u001b[38;5;28;01mfrom\u001b[39;00m \u001b[38;5;21;01mtensorflow\u001b[39;00m\u001b[38;5;21;01m.\u001b[39;00m\u001b[38;5;21;01mkeras\u001b[39;00m\u001b[38;5;21;01m.\u001b[39;00m\u001b[38;5;21;01mcallbacks\u001b[39;00m \u001b[38;5;28;01mimport\u001b[39;00m EarlyStopping\n\u001b[0;32m      9\u001b[0m \u001b[38;5;28;01mfrom\u001b[39;00m \u001b[38;5;21;01msklearn\u001b[39;00m\u001b[38;5;21;01m.\u001b[39;00m\u001b[38;5;21;01mutils\u001b[39;00m \u001b[38;5;28;01mimport\u001b[39;00m resample\n",
      "\u001b[1;31mModuleNotFoundError\u001b[0m: No module named 'keras.utils.np_utils'"
     ]
    }
   ],
   "source": [
    "import numpy as np\n",
    "import pandas as pd\n",
    "import seaborn as sns\n",
    "import matplotlib.pyplot as plt\n",
    "from sklearn.metrics import confusion_matrix\n",
    "from sklearn.model_selection import StratifiedKFold\n",
    "from keras.utils.np_utils import to_categorical\n",
    "from tensorflow.keras.callbacks import EarlyStopping\n",
    "from sklearn.utils import resample\n",
    "from tensorflow.keras.optimizers import Adam\n",
    "from sklearn.metrics import classification_report\n",
    "from tensorflow.keras.layers import Conv1D, DepthwiseConv1D, MaxPooling1D, AveragePooling1D, Flatten, Dense, GlobalAveragePooling1D, GlobalMaxPooling1D, concatenate\n",
    "from tensorflow.keras.models import Model\n",
    "from tensorflow.keras.layers import Input\n",
    "\n",
    "# Define a function to train and evaluate the model\n",
    "def train_and_evaluate_model(X_train, y_train, X_val, y_val):\n",
    "    model = ultralight_ecg_net_2()\n",
    "    model.compile(loss='categorical_crossentropy', optimizer='adam', metrics=['accuracy'])\n",
    "\n",
    "    early_stop = EarlyStopping(patience=5, monitor='val_accuracy', restore_best_weights=True)\n",
    "\n",
    "    hist = model.fit(X_train, y_train, validation_data=(X_val, y_val), epochs=15, batch_size=32, callbacks=[early_stop])\n",
    "\n",
    "    loss, accuracy = model.evaluate(X_val, y_val)\n",
    "    print(f\"Validation Loss: {loss:.4f}\")\n",
    "    print(f\"Validation Accuracy: {accuracy:.4f}\")\n",
    "\n",
    "    return model\n"
   ]
  },
  {
   "cell_type": "code",
   "execution_count": null,
   "id": "3d489895",
   "metadata": {},
   "outputs": [],
   "source": [
    "# K-fold cross-validation\n",
    "k = 5\n",
    "skf = StratifiedKFold(n_splits=k, shuffle=True, random_state=42)\n",
    "\n",
    "for fold, (train_index, val_index) in enumerate(skf.split(X_train, y_train.argmax(axis=1))):\n",
    "    print(f\"Fold {fold + 1}/{k}\")\n",
    "    \n",
    "    X_train_fold, X_val_fold = X_train[train_index], X_train[val_index]\n",
    "    y_train_fold, y_val_fold = y_train[train_index], y_train[val_index]\n",
    "\n",
    "    model = train_and_evaluate_model(X_train_fold, y_train_fold, X_val_fold, y_val_fold)\n",
    "\n",
    "    y_pred_fold = model.predict(X_val_fold)\n",
    "    y_pred_fold_classes = np.argmax(y_pred_fold, axis=1)\n",
    "    y_true_fold_classes = np.argmax(y_val_fold, axis=1)\n",
    "\n",
    "    # Compute and print classification report for this fold\n",
    "    print(classification_report(y_true_fold_classes, y_pred_fold_classes))\n",
    "    class_names = ['N', 'S', 'V', 'F', 'Q']\n",
    "    # Plot confusion matrix for this fold\n",
    "    conf_matrix = confusion_matrix(y_true_fold_classes, y_pred_fold_classes)\n",
    "    plt.figure(figsize=(8, 6))\n",
    "    sns.heatmap(conf_matrix, annot=True, fmt=\"d\", cmap=\"Blues\", cbar=False, xticklabels=class_names, yticklabels=class_names)\n",
    "    plt.xlabel(\"Predicted Labels\")\n",
    "    plt.ylabel(\"True Labels\")\n",
    "    plt.title(f\"Confusion Matrix - Fold {fold + 1}\")\n",
    "    plt.show()"
   ]
  },
  {
   "cell_type": "code",
   "execution_count": null,
   "id": "0a90a2fb",
   "metadata": {},
   "outputs": [],
   "source": []
  },
  {
   "cell_type": "code",
   "execution_count": null,
   "id": "c43a8c88",
   "metadata": {},
   "outputs": [],
   "source": []
  },
  {
   "cell_type": "code",
   "execution_count": null,
   "id": "4f6ae5a6",
   "metadata": {},
   "outputs": [],
   "source": []
  },
  {
   "cell_type": "code",
   "execution_count": null,
   "id": "c50e8ac6",
   "metadata": {},
   "outputs": [],
   "source": []
  },
  {
   "cell_type": "code",
   "execution_count": null,
   "id": "b6e303c9",
   "metadata": {},
   "outputs": [],
   "source": []
  },
  {
   "cell_type": "code",
   "execution_count": null,
   "id": "ff638aad",
   "metadata": {},
   "outputs": [],
   "source": []
  },
  {
   "cell_type": "code",
   "execution_count": null,
   "id": "b9f03775",
   "metadata": {},
   "outputs": [],
   "source": []
  },
  {
   "cell_type": "code",
   "execution_count": null,
   "id": "97d0a642",
   "metadata": {},
   "outputs": [],
   "source": []
  },
  {
   "cell_type": "code",
   "execution_count": null,
   "id": "b5ace59a",
   "metadata": {},
   "outputs": [],
   "source": []
  },
  {
   "cell_type": "code",
   "execution_count": null,
   "id": "13143b7a",
   "metadata": {},
   "outputs": [],
   "source": []
  },
  {
   "cell_type": "code",
   "execution_count": null,
   "id": "9034b036",
   "metadata": {},
   "outputs": [],
   "source": []
  },
  {
   "cell_type": "code",
   "execution_count": null,
   "id": "7f2d76d4",
   "metadata": {},
   "outputs": [],
   "source": []
  }
 ],
 "metadata": {
  "kernelspec": {
   "display_name": "Python 3 (ipykernel)",
   "language": "python",
   "name": "python3"
  },
  "language_info": {
   "codemirror_mode": {
    "name": "ipython",
    "version": 3
   },
   "file_extension": ".py",
   "mimetype": "text/x-python",
   "name": "python",
   "nbconvert_exporter": "python",
   "pygments_lexer": "ipython3",
   "version": "3.11.5"
  }
 },
 "nbformat": 4,
 "nbformat_minor": 5
}
